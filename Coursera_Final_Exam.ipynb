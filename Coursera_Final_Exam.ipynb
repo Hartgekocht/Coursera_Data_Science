{
 "cells": [
  {
   "cell_type": "markdown",
   "metadata": {},
   "source": [
    "# Prediction of Restaurant \"Likes\" using Foursquare API and Machine Learning for Munich"
   ]
  },
  {
   "cell_type": "markdown",
   "metadata": {},
   "source": [
    "## 1. Introduction"
   ]
  },
  {
   "cell_type": "markdown",
   "metadata": {},
   "source": [
    "Munich is one of the most famous cities in Germany with a great variety of restaurants to choose from. One point that influences the choice of a restaurant, especially during the first visit, is the image that one has of the restaurant. This image is formed to a large extent through the website and the reviews, which reflect other people's impressions. \n",
    "\n",
    "For a new business owner (or existing company) to open a new restaurant in Munich, knowing ahead of time the potential social media image they can have would provide an excellent solution to the ever present business problem of uncertainty. In this case the uncertainty is regarding performance of social media presence.\n",
    "\n",
    "We can mitigate this uncertainty through leveraging data gathered from FourSquare's API, specifically, we are able to scrape \"likes\" data of different restaurants directly from the API as well as their category of cuisine. The question we will try to address is, how accurately can we predict the amount of \"likes\" a new restaurant opening in this city can expect to have based on the type of cuisine.\n",
    "\n",
    "Leveraging this data will solve the problem as it allows the new business owner (or existing company) to make preemptive business decisions regarding opening the restaurant in terms of whether to open one in this city and expect good social media presence and what type of cuisine would be the best. This project will analyze and model the data via machine learning through comparing both linear and logistic regressions to see which method will yield better predictive capabilities after training and testing."
   ]
  },
  {
   "cell_type": "markdown",
   "metadata": {},
   "source": [
    "#### Imports"
   ]
  },
  {
   "cell_type": "code",
   "execution_count": 126,
   "metadata": {},
   "outputs": [],
   "source": [
    "import numpy as np \n",
    "import pandas as pd \n",
    "import json\n",
    "\n",
    "#!conda install -c conda-forge geopy --yes\n",
    "from geopy.geocoders import Nominatim \n",
    "import requests\n",
    "from pandas.io.json import json_normalize \n",
    "import matplotlib.cm as cm\n",
    "import matplotlib.colors as colors\n",
    "\n",
    "#!conda install -c conda-forge folium --yes\n",
    "import folium \n",
    "from urllib.request import urlopen\n",
    "from bs4 import BeautifulSoup\n",
    "\n",
    "import matplotlib.pyplot as plt\n",
    "import pylab as pl\n",
    "\n",
    "from sklearn import linear_model\n",
    "from sklearn.metrics import jaccard_score\n",
    "from sklearn.linear_model import LogisticRegression\n",
    "from sklearn.metrics import confusion_matrix\n",
    "from sklearn.metrics import classification_report, confusion_matrix\n",
    "from sklearn.metrics import log_loss\n",
    "from sklearn.metrics import r2_score\n",
    "from sklearn.metrics import mean_squared_error, r2_score\n",
    "import itertools"
   ]
  },
  {
   "cell_type": "markdown",
   "metadata": {},
   "source": [
    "#### Config"
   ]
  },
  {
   "cell_type": "code",
   "execution_count": 127,
   "metadata": {},
   "outputs": [],
   "source": [
    "# credentials\n",
    "CLIENT_ID = '5B1LWXEGFJV52UMEQ0ZGKITJLRFL4DMJHBRRD3BX4WL4E1GB' # your Foursquare ID\n",
    "CLIENT_SECRET = 'YNUF5JX3RPQ5XLUMOIWQGAOM0OTEUE4XJ0FNUWLDU3T4YWBM' # your Foursquare Secret\n",
    "VERSION = '20180605' # Foursquare API version\n",
    "\n",
    "# magic numbers thresholds for data to scrape\n",
    "LIMIT = 100 # limit of number of venues returned by Foursquare API\n",
    "radius = 1000 # define radius\n"
   ]
  },
  {
   "cell_type": "markdown",
   "metadata": {},
   "source": [
    "## 2. Data\n",
    "\n",
    "### 2.1 Data Scraping and Cleaning"
   ]
  },
  {
   "cell_type": "markdown",
   "metadata": {},
   "source": [
    "In this section we will first retrieve the geographical coordinates of Munich. Then, we will leverage the FourSquare API to obtain URLs that lead to the raw data in JSON form. We will speerately scrape the raw data in these URLs in order to retrieve the following columns: \"name\", \"categories\", \"latitude\", \"longitude\" and \"id\". \n",
    "\n",
    "It is important to note that the extracts are not of every restaurant in the city but rather all of the restaurants within a 1KM range of the geographical coordinates that geolocator was able to provide. However, the extraction from the FourSquare API actually obtains venue data so it will include venues other than restaurants such as concert halls, stores, libraries etc. As such, this means that the data will need to be further cleaned somewhat manually by removing all of the non-restaurant rows. Once this is complete, we have a shortened by cleaned list to pull \"likes\" data. The reason the cleaning takes precedence is mainly that pulling the \"likes\" data is the computing process which takes the longest time in this project so we want to make sure we are not pulling information that will end up being dropped anyways.\n",
    "\n",
    "The \"id\" is an important column as it will allow us to further pull the \"likes\" from the API. We can retreive the \"likes\" based on the restaurant \"id\" and then append it to the data frame. Once this is complete, we finally name the dataframe 'raw_dataset' as it is the most complete compiled form before needing any processing for analysis via machine learning."
   ]
  },
  {
   "cell_type": "code",
   "execution_count": 128,
   "metadata": {},
   "outputs": [
    {
     "name": "stdout",
     "output_type": "stream",
     "text": [
      "The geograpical coordinate of Munich are 52.5170365, 13.3888599.\n"
     ]
    }
   ],
   "source": [
    "# addresses of interest \n",
    "address = 'Germany, Berlin'\n",
    "\n",
    "geolocator = Nominatim(user_agent=\"foursquare_agent\")\n",
    "\n",
    "location = geolocator.geocode(address)\n",
    "latitude = location.latitude\n",
    "longitude = location.longitude\n",
    "print('The geograpical coordinate of Munich are {}, {}.'.format(latitude, longitude))"
   ]
  },
  {
   "cell_type": "code",
   "execution_count": 129,
   "metadata": {},
   "outputs": [],
   "source": [
    "url = 'https://api.foursquare.com/v2/venues/explore?&client_id={}&client_secret={}&v={}&ll={},{}&radius={}&limit={}'.format(\n",
    "    CLIENT_ID, \n",
    "    CLIENT_SECRET, \n",
    "    VERSION, \n",
    "    latitude, \n",
    "    longitude, \n",
    "    radius, \n",
    "    LIMIT)\n",
    "results = requests.get(url).json()"
   ]
  },
  {
   "cell_type": "code",
   "execution_count": 130,
   "metadata": {},
   "outputs": [],
   "source": [
    "# function that extracts the category of the venue\n",
    "def get_category_type(row):\n",
    "    try:\n",
    "        categories_list = row['categories']\n",
    "    except:\n",
    "        categories_list = row['venue.categories']\n",
    "        \n",
    "    if len(categories_list) == 0:\n",
    "        return None\n",
    "    else:\n",
    "        return categories_list[0]['name']"
   ]
  },
  {
   "cell_type": "code",
   "execution_count": 131,
   "metadata": {},
   "outputs": [
    {
     "data": {
      "text/html": [
       "<div>\n",
       "<style scoped>\n",
       "    .dataframe tbody tr th:only-of-type {\n",
       "        vertical-align: middle;\n",
       "    }\n",
       "\n",
       "    .dataframe tbody tr th {\n",
       "        vertical-align: top;\n",
       "    }\n",
       "\n",
       "    .dataframe thead th {\n",
       "        text-align: right;\n",
       "    }\n",
       "</style>\n",
       "<table border=\"1\" class=\"dataframe\">\n",
       "  <thead>\n",
       "    <tr style=\"text-align: right;\">\n",
       "      <th></th>\n",
       "      <th>name</th>\n",
       "      <th>categories</th>\n",
       "      <th>lat</th>\n",
       "      <th>lng</th>\n",
       "      <th>id</th>\n",
       "    </tr>\n",
       "  </thead>\n",
       "  <tbody>\n",
       "    <tr>\n",
       "      <th>0</th>\n",
       "      <td>Dussmann das KulturKaufhaus</td>\n",
       "      <td>Bookstore</td>\n",
       "      <td>52.518312</td>\n",
       "      <td>13.388708</td>\n",
       "      <td>4adcda8ef964a520a74a21e3</td>\n",
       "    </tr>\n",
       "    <tr>\n",
       "      <th>1</th>\n",
       "      <td>Dussmann English Bookshop</td>\n",
       "      <td>Bookstore</td>\n",
       "      <td>52.518223</td>\n",
       "      <td>13.389239</td>\n",
       "      <td>562a9474498e20b9ac65c6fe</td>\n",
       "    </tr>\n",
       "    <tr>\n",
       "      <th>2</th>\n",
       "      <td>Freundschaft</td>\n",
       "      <td>Wine Bar</td>\n",
       "      <td>52.518294</td>\n",
       "      <td>13.390344</td>\n",
       "      <td>5b85b8241fa763002ccd8cc3</td>\n",
       "    </tr>\n",
       "    <tr>\n",
       "      <th>3</th>\n",
       "      <td>Cookies Cream</td>\n",
       "      <td>Vegetarian / Vegan Restaurant</td>\n",
       "      <td>52.516569</td>\n",
       "      <td>13.388008</td>\n",
       "      <td>4adf61aef964a520177a21e3</td>\n",
       "    </tr>\n",
       "    <tr>\n",
       "      <th>4</th>\n",
       "      <td>COS</td>\n",
       "      <td>Clothing Store</td>\n",
       "      <td>52.515947</td>\n",
       "      <td>13.389172</td>\n",
       "      <td>4b4b65d9f964a5201a9a26e3</td>\n",
       "    </tr>\n",
       "  </tbody>\n",
       "</table>\n",
       "</div>"
      ],
      "text/plain": [
       "                          name                     categories        lat  \\\n",
       "0  Dussmann das KulturKaufhaus                      Bookstore  52.518312   \n",
       "1    Dussmann English Bookshop                      Bookstore  52.518223   \n",
       "2                 Freundschaft                       Wine Bar  52.518294   \n",
       "3                Cookies Cream  Vegetarian / Vegan Restaurant  52.516569   \n",
       "4                          COS                 Clothing Store  52.515947   \n",
       "\n",
       "         lng                        id  \n",
       "0  13.388708  4adcda8ef964a520a74a21e3  \n",
       "1  13.389239  562a9474498e20b9ac65c6fe  \n",
       "2  13.390344  5b85b8241fa763002ccd8cc3  \n",
       "3  13.388008  4adf61aef964a520177a21e3  \n",
       "4  13.389172  4b4b65d9f964a5201a9a26e3  "
      ]
     },
     "execution_count": 131,
     "metadata": {},
     "output_type": "execute_result"
    }
   ],
   "source": [
    "venues = results['response']['groups'][0]['items']\n",
    "    \n",
    "nearby_venues = pd.json_normalize(venues) # flatten JSON\n",
    "\n",
    "# filter columns\n",
    "filtered_columns = ['venue.name', 'venue.categories', 'venue.location.lat', 'venue.location.lng', 'venue.id']\n",
    "nearby_venues =nearby_venues.loc[:, filtered_columns]\n",
    "\n",
    "# filter the category for each row\n",
    "nearby_venues['venue.categories'] = nearby_venues.apply(get_category_type, axis=1)\n",
    "\n",
    "# clean columns\n",
    "nearby_venues.columns = [col.split(\".\")[-1] for col in nearby_venues.columns]\n",
    "\n",
    "nearby_venues.head()"
   ]
  },
  {
   "cell_type": "code",
   "execution_count": 132,
   "metadata": {},
   "outputs": [
    {
     "name": "stdout",
     "output_type": "stream",
     "text": [
      "100 venues were returned by Foursquare.\n"
     ]
    }
   ],
   "source": [
    "print('{} venues were returned by Foursquare.'.format(nearby_venues.shape[0]))"
   ]
  },
  {
   "cell_type": "code",
   "execution_count": 133,
   "metadata": {},
   "outputs": [
    {
     "data": {
      "text/plain": [
       "array(['Wine Bar', 'Vegetarian / Vegan Restaurant', 'Gourmet Shop',\n",
       "       'Cocktail Bar', 'Chocolate Shop', 'Sandwich Place', 'Restaurant',\n",
       "       'Coffee Shop', 'Italian Restaurant', 'Sushi Restaurant',\n",
       "       'Hotel Bar', 'German Restaurant', 'Noodle House', 'Steakhouse',\n",
       "       'Indian Restaurant', 'Bar', 'Asian Restaurant', 'Burrito Place',\n",
       "       'Café', 'Pizza Place', 'Eastern European Restaurant'], dtype=object)"
      ]
     },
     "execution_count": 133,
     "metadata": {},
     "output_type": "execute_result"
    }
   ],
   "source": [
    "# list of type of venues to remove \n",
    "removal_list = ['Exhibit', 'Souvenir Shop', 'Outdoor Sculpture', 'Roof Deck', 'Monument / Landmark', 'Church', \n",
    "               'Department Store', 'History Museum', 'Vacation Rental', 'Drugstore', 'Garden', \n",
    "               'Indie Theater', 'Scenic Lookout', 'Capitol Building', \n",
    "               'Bookstore', 'Clothing Store', 'Opera House', 'Hotel',\n",
    "               'Cosmetics Shop', 'Plaza', 'Concert Hall', 'Historic Site',\n",
    "               'Theater', 'Art Gallery', 'Spa', 'Music Venue', 'Furniture / Home Store',\n",
    "               'Supermarket', 'Piano Bar', 'Art Museum', 'Pharmacy', 'Performing Arts Venue', 'Park', \n",
    "               'Museum', 'Comedy Club', 'Gym / Fitness Center']\n",
    "\n",
    "nearby_venues = nearby_venues[~nearby_venues['categories'].isin(removal_list)]\n",
    "\n",
    "# check that only restaurant data remains\n",
    "nearby_venues['categories'].unique()"
   ]
  },
  {
   "cell_type": "code",
   "execution_count": 134,
   "metadata": {},
   "outputs": [
    {
     "name": "stdout",
     "output_type": "stream",
     "text": [
      "venue url fetching complete\n",
      "venue likes fetching complete\n"
     ]
    }
   ],
   "source": [
    "# pull the likes from the API based on venue ID\n",
    "\n",
    "url_list = []\n",
    "like_list = []\n",
    "json_list = []\n",
    "\n",
    "for idx, venue in enumerate(list(nearby_venues.id)):\n",
    "  venue_url = 'https://api.foursquare.com/v2/venues/{}/likes?client_id={}&client_secret={}&v={}'.format(venue, CLIENT_ID, CLIENT_SECRET, VERSION)\n",
    "  url_list.append(venue_url)\n",
    "print(\"venue url fetching complete\")\n",
    "\n",
    "for idx, link in enumerate(url_list):\n",
    "  result = requests.get(link).json()\n",
    "  likes = result['response']['likes']['count']\n",
    "  like_list.append(likes)\n",
    "print(\"venue likes fetching complete\")\n",
    "\n",
    "nearby_venues['likes'] = like_list"
   ]
  },
  {
   "cell_type": "code",
   "execution_count": 135,
   "metadata": {},
   "outputs": [
    {
     "data": {
      "text/html": [
       "<div>\n",
       "<style scoped>\n",
       "    .dataframe tbody tr th:only-of-type {\n",
       "        vertical-align: middle;\n",
       "    }\n",
       "\n",
       "    .dataframe tbody tr th {\n",
       "        vertical-align: top;\n",
       "    }\n",
       "\n",
       "    .dataframe thead th {\n",
       "        text-align: right;\n",
       "    }\n",
       "</style>\n",
       "<table border=\"1\" class=\"dataframe\">\n",
       "  <thead>\n",
       "    <tr style=\"text-align: right;\">\n",
       "      <th></th>\n",
       "      <th>name</th>\n",
       "      <th>categories</th>\n",
       "      <th>lat</th>\n",
       "      <th>lng</th>\n",
       "      <th>id</th>\n",
       "      <th>likes</th>\n",
       "    </tr>\n",
       "  </thead>\n",
       "  <tbody>\n",
       "    <tr>\n",
       "      <th>2</th>\n",
       "      <td>Freundschaft</td>\n",
       "      <td>Wine Bar</td>\n",
       "      <td>52.518294</td>\n",
       "      <td>13.390344</td>\n",
       "      <td>5b85b8241fa763002ccd8cc3</td>\n",
       "      <td>35</td>\n",
       "    </tr>\n",
       "    <tr>\n",
       "      <th>3</th>\n",
       "      <td>Cookies Cream</td>\n",
       "      <td>Vegetarian / Vegan Restaurant</td>\n",
       "      <td>52.516569</td>\n",
       "      <td>13.388008</td>\n",
       "      <td>4adf61aef964a520177a21e3</td>\n",
       "      <td>387</td>\n",
       "    </tr>\n",
       "    <tr>\n",
       "      <th>6</th>\n",
       "      <td>Lafayette Gourmet</td>\n",
       "      <td>Gourmet Shop</td>\n",
       "      <td>52.514385</td>\n",
       "      <td>13.389569</td>\n",
       "      <td>5622323a498efb9560ccd9b2</td>\n",
       "      <td>80</td>\n",
       "    </tr>\n",
       "    <tr>\n",
       "      <th>7</th>\n",
       "      <td>Windhorst</td>\n",
       "      <td>Cocktail Bar</td>\n",
       "      <td>52.518553</td>\n",
       "      <td>13.386270</td>\n",
       "      <td>4adcda79f964a520874621e3</td>\n",
       "      <td>133</td>\n",
       "    </tr>\n",
       "    <tr>\n",
       "      <th>9</th>\n",
       "      <td>Ritter Sport Bunte Schokowelt</td>\n",
       "      <td>Chocolate Shop</td>\n",
       "      <td>52.514906</td>\n",
       "      <td>13.390378</td>\n",
       "      <td>4b5099f3f964a520f82827e3</td>\n",
       "      <td>614</td>\n",
       "    </tr>\n",
       "  </tbody>\n",
       "</table>\n",
       "</div>"
      ],
      "text/plain": [
       "                            name                     categories        lat  \\\n",
       "2                   Freundschaft                       Wine Bar  52.518294   \n",
       "3                  Cookies Cream  Vegetarian / Vegan Restaurant  52.516569   \n",
       "6              Lafayette Gourmet                   Gourmet Shop  52.514385   \n",
       "7                      Windhorst                   Cocktail Bar  52.518553   \n",
       "9  Ritter Sport Bunte Schokowelt                 Chocolate Shop  52.514906   \n",
       "\n",
       "         lng                        id  likes  \n",
       "2  13.390344  5b85b8241fa763002ccd8cc3     35  \n",
       "3  13.388008  4adf61aef964a520177a21e3    387  \n",
       "6  13.389569  5622323a498efb9560ccd9b2     80  \n",
       "7  13.386270  4adcda79f964a520874621e3    133  \n",
       "9  13.390378  4b5099f3f964a520f82827e3    614  "
      ]
     },
     "execution_count": 135,
     "metadata": {},
     "output_type": "execute_result"
    }
   ],
   "source": [
    "# check that data has been appropriately scraped and parsed\n",
    "nearby_venues.head()"
   ]
  },
  {
   "cell_type": "markdown",
   "metadata": {},
   "source": [
    "### 2.2 Data Preparation"
   ]
  },
  {
   "cell_type": "markdown",
   "metadata": {},
   "source": [
    "The data still needs some more processing before it is suitable for model training and testing. Mainly, the \"categories\" column contains too many different types of cuisines to allow a model to yield any meaningful results. However, the different types of natural cuisines have natural groupings based on conventionally accepted cultural groupings of cuisine. Broadly speaking, all of the different types of cuisine could be reclassified as European, Latin American, Asian, North American, drinking establishments (bars), or casual establishments such as coffee shops or ice cream parlours. We can implement manual classification as there really aren't that many different types of cuisines.\n",
    "\n",
    "As this project will compare both linear and logistic regression, it makes sense to have \"likes\" as both a continuous and categorical (but ordinal) variable. In the case of turning into a categorical variable, we can bin the data based on percentiles and classify them into these ordinal percentile categories."
   ]
  },
  {
   "cell_type": "code",
   "execution_count": 136,
   "metadata": {},
   "outputs": [
    {
     "data": {
      "text/plain": [
       "array(['Wine Bar', 'Vegetarian / Vegan Restaurant', 'Gourmet Shop',\n",
       "       'Cocktail Bar', 'Chocolate Shop', 'Sandwich Place', 'Restaurant',\n",
       "       'Coffee Shop', 'Italian Restaurant', 'Sushi Restaurant',\n",
       "       'Hotel Bar', 'German Restaurant', 'Noodle House', 'Steakhouse',\n",
       "       'Indian Restaurant', 'Bar', 'Asian Restaurant', 'Burrito Place',\n",
       "       'Café', 'Pizza Place', 'Eastern European Restaurant'], dtype=object)"
      ]
     },
     "execution_count": 136,
     "metadata": {},
     "output_type": "execute_result"
    }
   ],
   "source": [
    "# inspecting the raw dataset shows that there may be too many different types of cuisines\n",
    "raw_dataset = nearby_venues\n",
    "raw_dataset['categories'].unique()"
   ]
  },
  {
   "cell_type": "code",
   "execution_count": 137,
   "metadata": {},
   "outputs": [
    {
     "data": {
      "text/html": [
       "<div>\n",
       "<style scoped>\n",
       "    .dataframe tbody tr th:only-of-type {\n",
       "        vertical-align: middle;\n",
       "    }\n",
       "\n",
       "    .dataframe tbody tr th {\n",
       "        vertical-align: top;\n",
       "    }\n",
       "\n",
       "    .dataframe thead th {\n",
       "        text-align: right;\n",
       "    }\n",
       "</style>\n",
       "<table border=\"1\" class=\"dataframe\">\n",
       "  <thead>\n",
       "    <tr style=\"text-align: right;\">\n",
       "      <th></th>\n",
       "      <th>name</th>\n",
       "      <th>categories</th>\n",
       "      <th>lat</th>\n",
       "      <th>lng</th>\n",
       "      <th>id</th>\n",
       "      <th>likes</th>\n",
       "      <th>categories_classified</th>\n",
       "    </tr>\n",
       "  </thead>\n",
       "  <tbody>\n",
       "    <tr>\n",
       "      <th>2</th>\n",
       "      <td>Freundschaft</td>\n",
       "      <td>Wine Bar</td>\n",
       "      <td>52.518294</td>\n",
       "      <td>13.390344</td>\n",
       "      <td>5b85b8241fa763002ccd8cc3</td>\n",
       "      <td>35</td>\n",
       "      <td>bar</td>\n",
       "    </tr>\n",
       "    <tr>\n",
       "      <th>3</th>\n",
       "      <td>Cookies Cream</td>\n",
       "      <td>Vegetarian / Vegan Restaurant</td>\n",
       "      <td>52.516569</td>\n",
       "      <td>13.388008</td>\n",
       "      <td>4adf61aef964a520177a21e3</td>\n",
       "      <td>387</td>\n",
       "      <td>euro</td>\n",
       "    </tr>\n",
       "    <tr>\n",
       "      <th>6</th>\n",
       "      <td>Lafayette Gourmet</td>\n",
       "      <td>Gourmet Shop</td>\n",
       "      <td>52.514385</td>\n",
       "      <td>13.389569</td>\n",
       "      <td>5622323a498efb9560ccd9b2</td>\n",
       "      <td>80</td>\n",
       "      <td>casual</td>\n",
       "    </tr>\n",
       "    <tr>\n",
       "      <th>7</th>\n",
       "      <td>Windhorst</td>\n",
       "      <td>Cocktail Bar</td>\n",
       "      <td>52.518553</td>\n",
       "      <td>13.386270</td>\n",
       "      <td>4adcda79f964a520874621e3</td>\n",
       "      <td>133</td>\n",
       "      <td>bar</td>\n",
       "    </tr>\n",
       "    <tr>\n",
       "      <th>9</th>\n",
       "      <td>Ritter Sport Bunte Schokowelt</td>\n",
       "      <td>Chocolate Shop</td>\n",
       "      <td>52.514906</td>\n",
       "      <td>13.390378</td>\n",
       "      <td>4b5099f3f964a520f82827e3</td>\n",
       "      <td>614</td>\n",
       "      <td>casual</td>\n",
       "    </tr>\n",
       "  </tbody>\n",
       "</table>\n",
       "</div>"
      ],
      "text/plain": [
       "                            name                     categories        lat  \\\n",
       "2                   Freundschaft                       Wine Bar  52.518294   \n",
       "3                  Cookies Cream  Vegetarian / Vegan Restaurant  52.516569   \n",
       "6              Lafayette Gourmet                   Gourmet Shop  52.514385   \n",
       "7                      Windhorst                   Cocktail Bar  52.518553   \n",
       "9  Ritter Sport Bunte Schokowelt                 Chocolate Shop  52.514906   \n",
       "\n",
       "         lng                        id  likes categories_classified  \n",
       "2  13.390344  5b85b8241fa763002ccd8cc3     35                   bar  \n",
       "3  13.388008  4adf61aef964a520177a21e3    387                  euro  \n",
       "6  13.389569  5622323a498efb9560ccd9b2     80                casual  \n",
       "7  13.386270  4adcda79f964a520874621e3    133                   bar  \n",
       "9  13.390378  4b5099f3f964a520f82827e3    614                casual  "
      ]
     },
     "execution_count": 137,
     "metadata": {},
     "output_type": "execute_result"
    }
   ],
   "source": [
    "# we can group some cuisines together to make a better categorical variable\n",
    "\n",
    "euro = ['Italian Restaurant', 'German Restaurant', 'Pizza Place', 'Eastern European Restaurant', 'Vegetarian / Vegan Restaurant']\n",
    "\n",
    "non_euro = ['Sushi Restaurant', 'Noodle House','Indian Restaurant', 'Asian Restaurant', 'Burrito Place', 'Steakhouse']\n",
    "\n",
    "bar = ['Wine Bar', 'Cocktail Bar', 'Hotel Bar', 'Bar' ]\n",
    "\n",
    "casual = ['Gourmet Shop', 'Chocolate Shop', 'Sandwich Place', 'Coffee Shop', 'Café']\n",
    "\n",
    "def categorize_restaurants(df):\n",
    "    if df['categories'] in euro:\n",
    "        return 'euro'\n",
    "    if df['categories'] in non_euro:\n",
    "        return 'non_euro'\n",
    "    if df['categories'] in casual:\n",
    "        return 'casual'\n",
    "    if df['categories'] in bar:\n",
    "        return 'bar'\n",
    "\n",
    "\n",
    "\n",
    "raw_dataset['categories_classified'] = raw_dataset.apply(categorize_restaurants, axis=1)\n",
    "raw_dataset.head()"
   ]
  },
  {
   "cell_type": "code",
   "execution_count": 138,
   "metadata": {},
   "outputs": [
    {
     "data": {
      "text/html": [
       "<div>\n",
       "<style scoped>\n",
       "    .dataframe tbody tr th:only-of-type {\n",
       "        vertical-align: middle;\n",
       "    }\n",
       "\n",
       "    .dataframe tbody tr th {\n",
       "        vertical-align: top;\n",
       "    }\n",
       "\n",
       "    .dataframe thead th {\n",
       "        text-align: right;\n",
       "    }\n",
       "</style>\n",
       "<table border=\"1\" class=\"dataframe\">\n",
       "  <thead>\n",
       "    <tr style=\"text-align: right;\">\n",
       "      <th>col_0</th>\n",
       "      <th>count</th>\n",
       "    </tr>\n",
       "    <tr>\n",
       "      <th>categories_classified</th>\n",
       "      <th></th>\n",
       "    </tr>\n",
       "  </thead>\n",
       "  <tbody>\n",
       "    <tr>\n",
       "      <th>bar</th>\n",
       "      <td>7</td>\n",
       "    </tr>\n",
       "    <tr>\n",
       "      <th>casual</th>\n",
       "      <td>10</td>\n",
       "    </tr>\n",
       "    <tr>\n",
       "      <th>euro</th>\n",
       "      <td>6</td>\n",
       "    </tr>\n",
       "    <tr>\n",
       "      <th>non_euro</th>\n",
       "      <td>6</td>\n",
       "    </tr>\n",
       "  </tbody>\n",
       "</table>\n",
       "</div>"
      ],
      "text/plain": [
       "col_0                  count\n",
       "categories_classified       \n",
       "bar                        7\n",
       "casual                    10\n",
       "euro                       6\n",
       "non_euro                   6"
      ]
     },
     "execution_count": 138,
     "metadata": {},
     "output_type": "execute_result"
    }
   ],
   "source": [
    "# check how many are of each category\n",
    "pd.crosstab(index=raw_dataset[\"categories_classified\"], columns=\"count\")"
   ]
  },
  {
   "cell_type": "code",
   "execution_count": 139,
   "metadata": {},
   "outputs": [
    {
     "data": {
      "text/html": [
       "<div>\n",
       "<style scoped>\n",
       "    .dataframe tbody tr th:only-of-type {\n",
       "        vertical-align: middle;\n",
       "    }\n",
       "\n",
       "    .dataframe tbody tr th {\n",
       "        vertical-align: top;\n",
       "    }\n",
       "\n",
       "    .dataframe thead th {\n",
       "        text-align: right;\n",
       "    }\n",
       "</style>\n",
       "<table border=\"1\" class=\"dataframe\">\n",
       "  <thead>\n",
       "    <tr style=\"text-align: right;\">\n",
       "      <th></th>\n",
       "      <th>name</th>\n",
       "      <th>categories</th>\n",
       "      <th>lat</th>\n",
       "      <th>lng</th>\n",
       "      <th>id</th>\n",
       "      <th>likes</th>\n",
       "      <th>categories_classified</th>\n",
       "      <th>ranking</th>\n",
       "    </tr>\n",
       "  </thead>\n",
       "  <tbody>\n",
       "    <tr>\n",
       "      <th>2</th>\n",
       "      <td>Freundschaft</td>\n",
       "      <td>Wine Bar</td>\n",
       "      <td>52.518294</td>\n",
       "      <td>13.390344</td>\n",
       "      <td>5b85b8241fa763002ccd8cc3</td>\n",
       "      <td>35</td>\n",
       "      <td>bar</td>\n",
       "      <td>1</td>\n",
       "    </tr>\n",
       "    <tr>\n",
       "      <th>3</th>\n",
       "      <td>Cookies Cream</td>\n",
       "      <td>Vegetarian / Vegan Restaurant</td>\n",
       "      <td>52.516569</td>\n",
       "      <td>13.388008</td>\n",
       "      <td>4adf61aef964a520177a21e3</td>\n",
       "      <td>387</td>\n",
       "      <td>euro</td>\n",
       "      <td>2</td>\n",
       "    </tr>\n",
       "    <tr>\n",
       "      <th>6</th>\n",
       "      <td>Lafayette Gourmet</td>\n",
       "      <td>Gourmet Shop</td>\n",
       "      <td>52.514385</td>\n",
       "      <td>13.389569</td>\n",
       "      <td>5622323a498efb9560ccd9b2</td>\n",
       "      <td>80</td>\n",
       "      <td>casual</td>\n",
       "      <td>2</td>\n",
       "    </tr>\n",
       "    <tr>\n",
       "      <th>7</th>\n",
       "      <td>Windhorst</td>\n",
       "      <td>Cocktail Bar</td>\n",
       "      <td>52.518553</td>\n",
       "      <td>13.386270</td>\n",
       "      <td>4adcda79f964a520874621e3</td>\n",
       "      <td>133</td>\n",
       "      <td>bar</td>\n",
       "      <td>2</td>\n",
       "    </tr>\n",
       "    <tr>\n",
       "      <th>9</th>\n",
       "      <td>Ritter Sport Bunte Schokowelt</td>\n",
       "      <td>Chocolate Shop</td>\n",
       "      <td>52.514906</td>\n",
       "      <td>13.390378</td>\n",
       "      <td>4b5099f3f964a520f82827e3</td>\n",
       "      <td>614</td>\n",
       "      <td>casual</td>\n",
       "      <td>2</td>\n",
       "    </tr>\n",
       "  </tbody>\n",
       "</table>\n",
       "</div>"
      ],
      "text/plain": [
       "                            name                     categories        lat  \\\n",
       "2                   Freundschaft                       Wine Bar  52.518294   \n",
       "3                  Cookies Cream  Vegetarian / Vegan Restaurant  52.516569   \n",
       "6              Lafayette Gourmet                   Gourmet Shop  52.514385   \n",
       "7                      Windhorst                   Cocktail Bar  52.518553   \n",
       "9  Ritter Sport Bunte Schokowelt                 Chocolate Shop  52.514906   \n",
       "\n",
       "         lng                        id  likes categories_classified  ranking  \n",
       "2  13.390344  5b85b8241fa763002ccd8cc3     35                   bar        1  \n",
       "3  13.388008  4adf61aef964a520177a21e3    387                  euro        2  \n",
       "6  13.389569  5622323a498efb9560ccd9b2     80                casual        2  \n",
       "7  13.386270  4adcda79f964a520874621e3    133                   bar        2  \n",
       "9  13.390378  4b5099f3f964a520f82827e3    614                casual        2  "
      ]
     },
     "execution_count": 139,
     "metadata": {},
     "output_type": "execute_result"
    }
   ],
   "source": [
    "# classify the likes into different ranking levels\n",
    "# Determine 3 rankings by binning based on percentiles\n",
    "\n",
    "thres1 = np.percentile(raw_dataset['likes'], 33)\n",
    "thres2 = np.percentile(raw_dataset['likes'], 66)\n",
    "\n",
    "\n",
    "def apply_rankings(df, thres1, thres2):\n",
    "  \"\"\"\n",
    "    return new column with rankings based on threshold bins\n",
    "  \"\"\"\n",
    "  if df['likes'] < thres1:\n",
    "      return 1\n",
    "  if df['likes'] >= thres1 or df['likes'] <= thres2:\n",
    "      return 2\n",
    "  if df['likes'] > thres2:\n",
    "      return 3\n",
    "\n",
    "raw_dataset['ranking'] = raw_dataset.apply(apply_rankings, axis=1, args = [thres1, thres2])\n",
    "raw_dataset.head()"
   ]
  },
  {
   "cell_type": "code",
   "execution_count": 141,
   "metadata": {},
   "outputs": [
    {
     "data": {
      "text/html": [
       "<div>\n",
       "<style scoped>\n",
       "    .dataframe tbody tr th:only-of-type {\n",
       "        vertical-align: middle;\n",
       "    }\n",
       "\n",
       "    .dataframe tbody tr th {\n",
       "        vertical-align: top;\n",
       "    }\n",
       "\n",
       "    .dataframe thead th {\n",
       "        text-align: right;\n",
       "    }\n",
       "</style>\n",
       "<table border=\"1\" class=\"dataframe\">\n",
       "  <thead>\n",
       "    <tr style=\"text-align: right;\">\n",
       "      <th></th>\n",
       "      <th>name</th>\n",
       "      <th>bar</th>\n",
       "      <th>casual</th>\n",
       "      <th>euro</th>\n",
       "      <th>non_euro</th>\n",
       "      <th>ranking</th>\n",
       "      <th>likes</th>\n",
       "    </tr>\n",
       "  </thead>\n",
       "  <tbody>\n",
       "    <tr>\n",
       "      <th>2</th>\n",
       "      <td>Freundschaft</td>\n",
       "      <td>1</td>\n",
       "      <td>0</td>\n",
       "      <td>0</td>\n",
       "      <td>0</td>\n",
       "      <td>1</td>\n",
       "      <td>35</td>\n",
       "    </tr>\n",
       "    <tr>\n",
       "      <th>3</th>\n",
       "      <td>Cookies Cream</td>\n",
       "      <td>0</td>\n",
       "      <td>0</td>\n",
       "      <td>1</td>\n",
       "      <td>0</td>\n",
       "      <td>2</td>\n",
       "      <td>387</td>\n",
       "    </tr>\n",
       "    <tr>\n",
       "      <th>6</th>\n",
       "      <td>Lafayette Gourmet</td>\n",
       "      <td>0</td>\n",
       "      <td>1</td>\n",
       "      <td>0</td>\n",
       "      <td>0</td>\n",
       "      <td>2</td>\n",
       "      <td>80</td>\n",
       "    </tr>\n",
       "    <tr>\n",
       "      <th>7</th>\n",
       "      <td>Windhorst</td>\n",
       "      <td>1</td>\n",
       "      <td>0</td>\n",
       "      <td>0</td>\n",
       "      <td>0</td>\n",
       "      <td>2</td>\n",
       "      <td>133</td>\n",
       "    </tr>\n",
       "    <tr>\n",
       "      <th>9</th>\n",
       "      <td>Ritter Sport Bunte Schokowelt</td>\n",
       "      <td>0</td>\n",
       "      <td>1</td>\n",
       "      <td>0</td>\n",
       "      <td>0</td>\n",
       "      <td>2</td>\n",
       "      <td>614</td>\n",
       "    </tr>\n",
       "  </tbody>\n",
       "</table>\n",
       "</div>"
      ],
      "text/plain": [
       "                            name  bar  casual  euro  non_euro  ranking  likes\n",
       "2                   Freundschaft    1       0     0         0        1     35\n",
       "3                  Cookies Cream    0       0     1         0        2    387\n",
       "6              Lafayette Gourmet    0       1     0         0        2     80\n",
       "7                      Windhorst    1       0     0         0        2    133\n",
       "9  Ritter Sport Bunte Schokowelt    0       1     0         0        2    614"
      ]
     },
     "execution_count": 141,
     "metadata": {},
     "output_type": "execute_result"
    }
   ],
   "source": [
    "# create dummies for linear regression modelling\n",
    "\n",
    "# one hot encoding\n",
    "reg_dataset = pd.get_dummies(raw_dataset['categories_classified'], \n",
    "                               prefix=\"\", \n",
    "                               prefix_sep=\"\")\n",
    "\n",
    "# add name, ranking, and likes columns back to dataframe\n",
    "reg_dataset['ranking'] = raw_dataset['ranking']\n",
    "reg_dataset['likes'] = raw_dataset['likes']\n",
    "reg_dataset['name'] = raw_dataset['name']\n",
    "\n",
    "# move name column to the first column\n",
    "reg_columns = [reg_dataset.columns[-1]] + list(reg_dataset.columns[:-1])\n",
    "reg_dataset = reg_dataset[reg_columns]\n",
    "\n",
    "\n",
    "reg_dataset.head()"
   ]
  },
  {
   "cell_type": "markdown",
   "metadata": {},
   "source": [
    "## 3. Methodology"
   ]
  },
  {
   "cell_type": "markdown",
   "metadata": {},
   "source": [
    "This project will utilize both linear and logistic regression machine learning methods to train and test the data. Namely, linear regression will be used in an attempt to predict the number of \"likes\" a new restaurant in this region will have. We will utilize the Sci-Kit Learn Package to run the model.\n",
    "\n",
    "We can also utilize logisitc regression as a classification method rather than direct prediction of the number of likes. Since the number of \"likes\" can be binned into different categories based on different percentile bins, it is also potentiallly possible to see which range of \"likes\" a new restaurant in this region will have.\n",
    "\n",
    "Since the \"likes\" are binned into multiple (more than 2) categories, the type of logistic regression will be multinomial. Additionally, although the ranges are indeed discrete categories, they are also ordinal in nature. Therefore the logistic regression will need to be specified as being both multinomial and ordinal. This can be done through the Sci-Kit Learn Package as well."
   ]
  },
  {
   "cell_type": "markdown",
   "metadata": {},
   "source": [
    "## 4. Result\n",
    "\n",
    "### 4.1 Linear Regression Results\n",
    "\n",
    "A linear regression model was trained on a random subsample of 80% of the sample and then tested on the other 20%. To see if this is a reasonable model. the residual sum of squares score and variance score were both calculated. Given the low variance score, this is probably not a valid/good way of modelling the data. Therefore, we move on to logistic regression."
   ]
  },
  {
   "cell_type": "code",
   "execution_count": 158,
   "metadata": {},
   "outputs": [
    {
     "name": "stdout",
     "output_type": "stream",
     "text": [
      "Coefficients:  [[115.74464286  38.44464286 -90.00535714 -64.18392857]]\n"
     ]
    }
   ],
   "source": [
    "# Multiple Linear Regression\n",
    "\n",
    "msk = np.random.rand(len(reg_dataset)) < 0.8\n",
    "train = reg_dataset[msk]\n",
    "test = reg_dataset[~msk]\n",
    "\n",
    "regr = linear_model.LinearRegression()\n",
    "x = np.asanyarray(train[['euro', 'non_euro', 'bar', 'casual']])\n",
    "y = np.asanyarray(train[['likes']])\n",
    "regr.fit (x, y)\n",
    "# The coefficients\n",
    "print ('Coefficients: ', regr.coef_)"
   ]
  },
  {
   "cell_type": "code",
   "execution_count": 159,
   "metadata": {},
   "outputs": [
    {
     "name": "stdout",
     "output_type": "stream",
     "text": [
      "Residual sum of squares: 54331.22\n",
      "Variance score: -0.20\n"
     ]
    }
   ],
   "source": [
    "# Multiple Linear Regression Prediction Capabilities\n",
    "\n",
    "y_hat= regr.predict(test[['euro', 'non_euro', 'bar', 'casual']])\n",
    "x = np.asanyarray(test[['euro', 'non_euro', 'bar', 'casual']])\n",
    "y = np.asanyarray(test[['likes']])\n",
    "print(\"Residual sum of squares: %.2f\"\n",
    "      % np.mean((y_hat - y) ** 2))\n",
    "\n",
    "# Explained variance score: 1 is perfect prediction\n",
    "print('Variance score: %.2f' % regr.score(x, y))"
   ]
  },
  {
   "cell_type": "markdown",
   "metadata": {},
   "source": [
    "### 4.2 Logistic Regression Results\n",
    "\n",
    "A multinomial ordinal logisitc regression model was trained on a random subsample of 80% of the sample and then tested on the other 20%. To see if this is a reasonable model, its jaccard similarity score and log-loss were calculated (66.66% and 1.009 respectively). Although this is not a perfect prediction, a similarity of 66% between the training set and test set is a reasonable result. The classification report is also printed later on below.\n",
    "\n",
    "Given the modestly accurate ability of this model, we can also run the model on the full dataset. The coefficients show that opening a european restaurant in Munich is associated positivly with \"likes\". The most negative correlation is between bars and \"likes\"."
   ]
  },
  {
   "cell_type": "code",
   "execution_count": 149,
   "metadata": {},
   "outputs": [
    {
     "name": "stdout",
     "output_type": "stream",
     "text": [
      "[-0.26133803 -0.01589167  0.29712164 -0.01989051]\n"
     ]
    }
   ],
   "source": [
    "# Multinomial Ordinal Logistic Regression\n",
    "\n",
    "x_train = np.asanyarray(train[['euro', 'non_euro', 'bar', 'casual']])\n",
    "y_train = np.asanyarray(train['ranking'])\n",
    "\n",
    "x_test = np.asanyarray(test[['euro', 'non_euro', 'bar', 'casual']])\n",
    "y_test = np.asanyarray(test['ranking'])\n",
    "\n",
    "mul_ordinal = linear_model.LogisticRegression(multi_class='multinomial',\n",
    "                                              solver='newton-cg',\n",
    "                                              fit_intercept=True).fit(x_train,\n",
    "                                                                      y_train)\n",
    "\n",
    "mul_ordinal\n",
    "\n",
    "coef = mul_ordinal.coef_[0]\n",
    "print (coef)"
   ]
  },
  {
   "cell_type": "code",
   "execution_count": 162,
   "metadata": {},
   "outputs": [
    {
     "name": "stdout",
     "output_type": "stream",
     "text": [
      "[2 2 2 2 2 2 2 2 2 2 2]\n",
      "[[0.14855988 0.85144012]\n",
      " [0.24017911 0.75982089]\n",
      " [0.14855988 0.85144012]\n",
      " [0.34773239 0.65226761]\n",
      " [0.24751371 0.75248629]\n",
      " [0.14855988 0.85144012]\n",
      " [0.24602715 0.75397285]\n",
      " [0.14855988 0.85144012]\n",
      " [0.24602715 0.75397285]\n",
      " [0.24751371 0.75248629]\n",
      " [0.14855988 0.85144012]]\n"
     ]
    }
   ],
   "source": [
    "# Multinomial Ordinal Logistic Regression Prediction Capabilities\n",
    "\n",
    "yhat = mul_ordinal.predict(x_test)\n",
    "print(yhat)\n",
    "\n",
    "yhat_prob = mul_ordinal.predict_proba(x_test)\n",
    "print(yhat_prob)\n",
    "\n",
    "\n",
    "#jaccard_score(y_test, yhat)"
   ]
  },
  {
   "cell_type": "code",
   "execution_count": 152,
   "metadata": {},
   "outputs": [
    {
     "data": {
      "text/plain": [
       "0.8613887687615468"
      ]
     },
     "execution_count": 152,
     "metadata": {},
     "output_type": "execute_result"
    }
   ],
   "source": [
    "log_loss(y_test, yhat_prob)"
   ]
  },
  {
   "cell_type": "code",
   "execution_count": 155,
   "metadata": {},
   "outputs": [
    {
     "name": "stdout",
     "output_type": "stream",
     "text": [
      "[-0.06250197 -0.06250197  0.01884541 -0.19004812]\n"
     ]
    }
   ],
   "source": [
    "# Exploration of Coefficient Magnitudes of Full Dataset\n",
    "\n",
    "x_all = np.asanyarray(reg_dataset[['euro', 'non_euro', 'bar', 'casual']])\n",
    "y_all = np.asanyarray(reg_dataset['ranking'])\n",
    "\n",
    "\n",
    "\n",
    "LR = linear_model.LogisticRegression(\n",
    "    multi_class='multinomial',\n",
    "    solver='newton-cg',\n",
    "    fit_intercept=True\n",
    "  ).fit(x_all, y_all)\n",
    "\n",
    "coef = LR.coef_[0]\n",
    "print (coef)"
   ]
  },
  {
   "cell_type": "code",
   "execution_count": 156,
   "metadata": {},
   "outputs": [
    {
     "name": "stdout",
     "output_type": "stream",
     "text": [
      "              precision    recall  f1-score   support\n",
      "\n",
      "           1       0.00      0.00      0.00         5\n",
      "           2       0.55      1.00      0.71         6\n",
      "\n",
      "    accuracy                           0.55        11\n",
      "   macro avg       0.27      0.50      0.35        11\n",
      "weighted avg       0.30      0.55      0.39        11\n",
      "\n"
     ]
    },
    {
     "name": "stderr",
     "output_type": "stream",
     "text": [
      "C:\\Users\\Family\\anaconda3\\lib\\site-packages\\sklearn\\metrics\\_classification.py:1221: UndefinedMetricWarning: Precision and F-score are ill-defined and being set to 0.0 in labels with no predicted samples. Use `zero_division` parameter to control this behavior.\n",
      "  _warn_prf(average, modifier, msg_start, len(result))\n"
     ]
    }
   ],
   "source": [
    "print (classification_report(y_test, yhat))"
   ]
  },
  {
   "cell_type": "markdown",
   "metadata": {},
   "source": [
    "## 5. Discussion\n",
    "\n",
    "The first thing to note is that given the data, logistic regression presents a better fit for the data over linear regression. Using logistic regression we were able to obtain a Jaccard Similarity Score of 51%, which although not perfect, is more reasonable than the low variance score obtained from the linear regression. As stated before, please note that for the purposes of this project, we are assumming that likes are a good proxy for how well a new restaurant will do in terms of brand, image and by extension how well the restaurant will perform business-wise. Whether or not these assumptions hold up in a real-life scenario is up for discussion, but this project does contain limitations in scope due to the amount of data that can be fetched from the FourSquare API.\n",
    "\n",
    "\n",
    "\n",
    "As such, to obtain insights into this data, we can proceed with breaking down the results of the logistic regression model. The results showed that the model is better at predicting if a restaurant will fall into the best or worst percentile of likes. This allows us to roughly predict the potential performance of the business opportunity. Different binning methods for the classes were attempted, but the use of 3 bins yielded the best Jaccard Similarity Score.\n"
   ]
  },
  {
   "cell_type": "markdown",
   "metadata": {},
   "source": [
    "## 6. Conclusion\n",
    "\n",
    "In conclusion, after analyzing restaurant \"likes\" in Munich from 100 restaurants, we have developed a general classification model for which \"ranking\" of likes a new restaurant will potentially fall into based on its characteristics."
   ]
  },
  {
   "cell_type": "code",
   "execution_count": null,
   "metadata": {},
   "outputs": [],
   "source": []
  }
 ],
 "metadata": {
  "kernelspec": {
   "display_name": "Python 3",
   "language": "python",
   "name": "python3"
  },
  "language_info": {
   "codemirror_mode": {
    "name": "ipython",
    "version": 3
   },
   "file_extension": ".py",
   "mimetype": "text/x-python",
   "name": "python",
   "nbconvert_exporter": "python",
   "pygments_lexer": "ipython3",
   "version": "3.8.5"
  }
 },
 "nbformat": 4,
 "nbformat_minor": 4
}
