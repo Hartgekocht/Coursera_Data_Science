{
 "cells": [
  {
   "cell_type": "markdown",
   "metadata": {},
   "source": [
    "# Prediction of Restaurant \"Likes\" using Foursquare API and Machine Learning for Munich"
   ]
  },
  {
   "cell_type": "markdown",
   "metadata": {},
   "source": [
    "## 1. Introduction"
   ]
  },
  {
   "cell_type": "markdown",
   "metadata": {},
   "source": [
    "Munich is one of the most famous cities in Germany with a great variety of restaurants to choose from. One point that influences the choice of a restaurant, especially during the first visit, is the image that one has of the restaurant. This image is formed to a large extent through the website and the reviews, which reflect other people's impressions. \n",
    "\n",
    "For a new business owner (or existing company) to open a new restaurant in Munich, knowing ahead of time the potential social media image they can have would provide an excellent solution to the ever present business problem of uncertainty. In this case the uncertainty is regarding performance of social media presence.\n",
    "\n",
    "We can mitigate this uncertainty through leveraging data gathered from FourSquare's API, specifically, we are able to scrape \"likes\" data of different restaurants directly from the API as well as their category of cuisine. The question we will try to address is, how accurately can we predict the amount of \"likes\" a new restaurant opening in this city can expect to have based on the type of cuisine.\n",
    "\n",
    "Leveraging this data will solve the problem as it allows the new business owner (or existing company) to make preemptive business decisions regarding opening the restaurant in terms of whether to open one in this city and expect good social media presence and what type of cuisine would be the best. This project will analyze and model the data via machine learning through comparing both linear and logistic regressions to see which method will yield better predictive capabilities after training and testing."
   ]
  },
  {
   "cell_type": "markdown",
   "metadata": {},
   "source": [
    "## 2. Data\n",
    "\n",
    "### 2.1 Data Scraping and Cleaning"
   ]
  },
  {
   "cell_type": "markdown",
   "metadata": {},
   "source": [
    "In this section we will first retrieve the geographical coordinates of Munich. Then, we will leverage the FourSquare API to obtain URLs that lead to the raw data in JSON form. We will speerately scrape the raw data in these URLs in order to retrieve the following columns: \"name\", \"categories\", \"latitude\", \"longitude\" and \"id\". \n",
    "\n",
    "It is important to note that the extracts are not of every restaurant in the city but rather all of the restaurants within a 50KM range of the geographical coordinates that geolocator was able to provide. However, the extraction from the FourSquare API actually obtains venue data so it will include venues other than restaurants such as concert halls, stores, libraries etc. As such, this means that the data will need to be further cleaned somewhat manually by removing all of the non-restaurant rows. Once this is complete, we have a shortened by cleaned list to pull \"likes\" data. The reason the cleaning takes precedence is mainly that pulling the \"likes\" data is the computing process which takes the longest time in this project so we want to make sure we are not pulling information that will end up being dropped anyways.\n",
    "\n",
    "The \"id\" is an important column as it will allow us to further pull the \"likes\" from the API. We can retreive the \"likes\" based on the restaurant \"id\" and then append it to the data frame. Once this is complete, we finally name the dataframe 'raw_dataset' as it is the most complete compiled form before needing any processing for analysis via machine learning."
   ]
  },
  {
   "cell_type": "markdown",
   "metadata": {},
   "source": [
    "### 2.2 Data Preparation"
   ]
  },
  {
   "cell_type": "markdown",
   "metadata": {},
   "source": [
    "The data still needs some more processing before it is suitable for model training and testing. Mainly, the \"categories\" column contains too many different types of cuisines to allow a model to yield any meaningful results. However, the different types of natural cuisines have natural groupings based on conventionally accepted cultural groupings of cuisine. Broadly speaking, all of the different types of cuisine could be reclassified as European, Latin American, Asian, North American, drinking establishments (bars), or casual establishments such as coffee shops or ice cream parlours. We can implement manual classification as there really aren't that many different types of cuisines.\n",
    "\n",
    "As this project will compare both linear and logistic regression, it makes sense to have \"likes\" as both a continuous and categorical (but ordinal) variable. In the case of turning into a categorical variable, we can bin the data based on percentiles and classify them into these ordinal percentile categories."
   ]
  },
  {
   "cell_type": "markdown",
   "metadata": {},
   "source": [
    "## 3. Methodology"
   ]
  },
  {
   "cell_type": "markdown",
   "metadata": {},
   "source": [
    "This project will utilize both linear and logistic regression machine learning methods to train and test the data. Namely, linear regression will be used in an attempt to predict the number of \"likes\" a new restaurant in this region will have. We will utilize the Sci-Kit Learn Package to run the model.\n",
    "\n",
    "We can also utilize logisitc regression as a classification method rather than direct prediction of the number of likes. Since the number of \"likes\" can be binned into different categories based on different percentile bins, it is also potentiallly possible to see which range of \"likes\" a new restaurant in this region will have.\n",
    "\n",
    "Since the \"likes\" are binned into multiple (more than 2) categories, the type of logistic regression will be multinomial. Additionally, although the ranges are indeed discrete categories, they are also ordinal in nature. Therefore the logistic regression will need to be specified as being both multinomial and ordinal. This can be done through the Sci-Kit Learn Package as well."
   ]
  },
  {
   "cell_type": "code",
   "execution_count": null,
   "metadata": {},
   "outputs": [],
   "source": []
  },
  {
   "cell_type": "code",
   "execution_count": null,
   "metadata": {},
   "outputs": [],
   "source": []
  },
  {
   "cell_type": "code",
   "execution_count": null,
   "metadata": {},
   "outputs": [],
   "source": []
  }
 ],
 "metadata": {
  "kernelspec": {
   "display_name": "Python 3",
   "language": "python",
   "name": "python3"
  },
  "language_info": {
   "codemirror_mode": {
    "name": "ipython",
    "version": 3
   },
   "file_extension": ".py",
   "mimetype": "text/x-python",
   "name": "python",
   "nbconvert_exporter": "python",
   "pygments_lexer": "ipython3",
   "version": "3.8.5"
  }
 },
 "nbformat": 4,
 "nbformat_minor": 4
}
